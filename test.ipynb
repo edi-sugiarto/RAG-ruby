{
 "cells": [
  {
   "cell_type": "code",
   "execution_count": 3,
   "metadata": {},
   "outputs": [],
   "source": [
    "import psycopg2\n",
    "from psycopg2 import sql"
   ]
  },
  {
   "cell_type": "code",
   "execution_count": 4,
   "metadata": {},
   "outputs": [
    {
     "name": "stdout",
     "output_type": "stream",
     "text": [
      "Database rag-1234 created successfully.\n",
      "Vector plugin enabled successfully on database rag-1234.\n"
     ]
    }
   ],
   "source": [
    "dbname = 'case_study'\n",
    "user = 'myuser'\n",
    "password = 'mypassword'\n",
    "host = 'localhost'\n",
    "port = '8013'\n",
    "\n",
    "new_dbname = 'rag-1234'\n",
    "\n",
    "# Connect to the PostgreSQL server\n",
    "connection = psycopg2.connect(dbname=dbname, user=user, password=password, host=host, port=port)\n",
    "connection.autocommit = True\n",
    "\n",
    "try:\n",
    "    # Create a cursor object\n",
    "    cursor = connection.cursor()\n",
    "\n",
    "    # Check if the database exists\n",
    "    cursor.execute(sql.SQL(\"SELECT 1 FROM pg_database WHERE datname = %s\"), [new_dbname])\n",
    "    exists = cursor.fetchone()\n",
    "\n",
    "    if not exists:\n",
    "        # Create the new database\n",
    "        cursor.execute(sql.SQL(\"CREATE DATABASE {}\").format(sql.Identifier(new_dbname)))\n",
    "        print(f\"Database {new_dbname} created successfully.\")\n",
    "\n",
    "    # Connect to the new database to enable the vector plugin\n",
    "    connection.close()\n",
    "    connection = psycopg2.connect(dbname=new_dbname, user=user, password=password, host=host, port=port)\n",
    "    cursor = connection.cursor()\n",
    "\n",
    "    # Enable the vector plugin\n",
    "    cursor.execute(\"CREATE EXTENSION IF NOT EXISTS vector\")\n",
    "    print(f\"Vector plugin enabled successfully on database {new_dbname}.\")\n",
    "\n",
    "finally:\n",
    "    # Close the cursor and connection\n",
    "    cursor.close()\n",
    "    connection.close()"
   ]
  },
  {
   "cell_type": "code",
   "execution_count": null,
   "metadata": {},
   "outputs": [],
   "source": []
  }
 ],
 "metadata": {
  "kernelspec": {
   "display_name": "myenv",
   "language": "python",
   "name": "python3"
  },
  "language_info": {
   "codemirror_mode": {
    "name": "ipython",
    "version": 3
   },
   "file_extension": ".py",
   "mimetype": "text/x-python",
   "name": "python",
   "nbconvert_exporter": "python",
   "pygments_lexer": "ipython3",
   "version": "3.9.19"
  }
 },
 "nbformat": 4,
 "nbformat_minor": 2
}
